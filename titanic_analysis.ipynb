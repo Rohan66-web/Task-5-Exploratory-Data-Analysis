{
 "cells": [
  {
   "cell_type": "markdown",
   "id": "51111b22",
   "metadata": {},
   "source": [
    "# Titanic Data Analysis\n",
    "\n",
    "This notebook performs exploratory data analysis on the Titanic dataset, including data overview, cleaning, visualization, and summary of findings."
   ]
  },
  {
   "cell_type": "code",
   "execution_count": null,
   "id": "694e32c0",
   "metadata": {},
   "outputs": [],
   "source": [
    "import pandas as pd\n",
    "import matplotlib.pyplot as plt\n",
    "import seaborn as sns\n",
    "sns.set(style='whitegrid')"
   ]
  },
  {
   "cell_type": "code",
   "execution_count": null,
   "id": "8051fd4a",
   "metadata": {},
   "outputs": [],
   "source": [
    "gender_df = pd.read_csv('gender_submission.csv')\n",
    "train_df = pd.read_csv('train.csv')"
   ]
  },
  {
   "cell_type": "markdown",
   "id": "eefb463a",
   "metadata": {},
   "source": [
    "## 1. Data Overview\n",
    "Use `.info()` and `.describe()` to understand the dataset structure and basic statistics."
   ]
  },
  {
   "cell_type": "code",
   "execution_count": null,
   "id": "73461a00",
   "metadata": {},
   "outputs": [],
   "source": [
    "train_df.info()"
   ]
  },
  {
   "cell_type": "code",
   "execution_count": null,
   "id": "c6534533",
   "metadata": {},
   "outputs": [],
   "source": [
    "train_df.describe()"
   ]
  },
  {
   "cell_type": "markdown",
   "id": "fc10e3bd",
   "metadata": {},
   "source": [
    "### Categorical Value Counts"
   ]
  },
  {
   "cell_type": "code",
   "execution_count": null,
   "id": "e6ca9488",
   "metadata": {},
   "outputs": [],
   "source": [
    "print(train_df['Sex'].value_counts())\n",
    "print(train_df['Pclass'].value_counts())\n",
    "print(train_df['Embarked'].value_counts())"
   ]
  },
  {
   "cell_type": "markdown",
   "id": "026c1437",
   "metadata": {},
   "source": [
    "## 2. Data Cleaning\n",
    "- Fill missing `Age` with median\n",
    "- Fill missing `Embarked` with mode"
   ]
  },
  {
   "cell_type": "code",
   "execution_count": null,
   "id": "0389593d",
   "metadata": {},
   "outputs": [],
   "source": [
    "train_df['Age'].fillna(train_df['Age'].median(), inplace=True)\n",
    "train_df['Embarked'].fillna(train_df['Embarked'].mode()[0], inplace=True)"
   ]
  },
  {
   "cell_type": "markdown",
   "id": "5afd4b7b",
   "metadata": {},
   "source": [
    "## 3. Exploratory Visualizations"
   ]
  },
  {
   "cell_type": "code",
   "execution_count": null,
   "id": "e3e87963",
   "metadata": {},
   "outputs": [],
   "source": [
    "plt.figure(figsize=(6,4))\n",
    "sns.countplot(data=train_df, x='Sex', hue='Survived')\n",
    "plt.title('Survival by Gender')\n",
    "plt.show()"
   ]
  },
  {
   "cell_type": "code",
   "execution_count": null,
   "id": "c97c5c63",
   "metadata": {},
   "outputs": [],
   "source": [
    "plt.figure(figsize=(6,4))\n",
    "sns.countplot(data=train_df, x='Pclass', hue='Survived')\n",
    "plt.title('Survival by Class')\n",
    "plt.show()"
   ]
  },
  {
   "cell_type": "code",
   "execution_count": null,
   "id": "4491953a",
   "metadata": {},
   "outputs": [],
   "source": [
    "plt.figure(figsize=(8,5))\n",
    "train_df['Age'].hist(bins=30)\n",
    "plt.title('Age Distribution')\n",
    "plt.show()"
   ]
  },
  {
   "cell_type": "markdown",
   "id": "4206b4c7",
   "metadata": {},
   "source": [
    "## 4. Correlation Heatmap"
   ]
  },
  {
   "cell_type": "code",
   "execution_count": null,
   "id": "5b3bf2fb",
   "metadata": {},
   "outputs": [],
   "source": [
    "plt.figure(figsize=(8,6))\n",
    "numeric = train_df[['Survived','Pclass','Age','SibSp','Parch','Fare']]\n",
    "sns.heatmap(numeric.corr(), annot=True, cmap='coolwarm')\n",
    "plt.show()"
   ]
  },
  {
   "cell_type": "markdown",
   "id": "14d3ac40",
   "metadata": {},
   "source": [
    "## 5. Summary of Findings\n",
    "- Females had higher survival rates\n",
    "- First-class passengers survived more often\n",
    "- Younger passengers had better chances\n",
    "- Higher fare correlates with survival"
   ]
  }
 ],
 "metadata": {},
 "nbformat": 4,
 "nbformat_minor": 5
}
